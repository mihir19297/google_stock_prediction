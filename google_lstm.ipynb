{
 "cells": [
  {
   "cell_type": "code",
   "execution_count": 2,
   "metadata": {},
   "outputs": [],
   "source": [
    "import pandas as pd\n",
    "import numpy as np\n",
    "from sklearn import preprocessing\n",
    "from matplotlib import pyplot as plt\n"
   ]
  },
  {
   "cell_type": "markdown",
   "metadata": {},
   "source": [
    "change column name"
   ]
  },
  {
   "cell_type": "code",
   "execution_count": 4,
   "metadata": {},
   "outputs": [
    {
     "ename": "ValueError",
     "evalue": "columns overlap but no suffix specified: Index(['close'], dtype='object')",
     "output_type": "error",
     "traceback": [
      "\u001b[0;31m---------------------------------------------------------------------------\u001b[0m",
      "\u001b[0;31mValueError\u001b[0m                                Traceback (most recent call last)",
      "\u001b[0;32m<ipython-input-4-504ec1cb43b4>\u001b[0m in \u001b[0;36m<module>\u001b[0;34m()\u001b[0m\n\u001b[1;32m      3\u001b[0m \u001b[0mclose1\u001b[0m\u001b[0;34m=\u001b[0m\u001b[0mclose1\u001b[0m\u001b[0;34m.\u001b[0m\u001b[0mshift\u001b[0m\u001b[0;34m(\u001b[0m\u001b[0;36m1\u001b[0m\u001b[0;34m)\u001b[0m\u001b[0;34m\u001b[0m\u001b[0m\n\u001b[1;32m      4\u001b[0m \u001b[0mclose1\u001b[0m\u001b[0;34m.\u001b[0m\u001b[0mhead\u001b[0m\u001b[0;34m(\u001b[0m\u001b[0;34m)\u001b[0m\u001b[0;34m\u001b[0m\u001b[0m\n\u001b[0;32m----> 5\u001b[0;31m \u001b[0mdf\u001b[0m\u001b[0;34m=\u001b[0m\u001b[0mdf\u001b[0m\u001b[0;34m.\u001b[0m\u001b[0mjoin\u001b[0m\u001b[0;34m(\u001b[0m\u001b[0mclose1\u001b[0m\u001b[0;34m,\u001b[0m\u001b[0mlsuffix\u001b[0m\u001b[0;34m=\u001b[0m\u001b[0;34m''\u001b[0m\u001b[0;34m,\u001b[0m \u001b[0mrsuffix\u001b[0m\u001b[0;34m=\u001b[0m\u001b[0;34m''\u001b[0m\u001b[0;34m)\u001b[0m\u001b[0;34m\u001b[0m\u001b[0m\n\u001b[0m\u001b[1;32m      6\u001b[0m \u001b[0mdf\u001b[0m\u001b[0;34m=\u001b[0m\u001b[0mdf\u001b[0m\u001b[0;34m.\u001b[0m\u001b[0mdropna\u001b[0m\u001b[0;34m(\u001b[0m\u001b[0;34m)\u001b[0m\u001b[0;34m\u001b[0m\u001b[0m\n\u001b[1;32m      7\u001b[0m \u001b[0mdf\u001b[0m\u001b[0;34m.\u001b[0m\u001b[0mhead\u001b[0m\u001b[0;34m(\u001b[0m\u001b[0;34m)\u001b[0m\u001b[0;34m\u001b[0m\u001b[0m\n",
      "\u001b[0;32m/usr/local/lib/python3.5/dist-packages/pandas/core/frame.py\u001b[0m in \u001b[0;36mjoin\u001b[0;34m(self, other, on, how, lsuffix, rsuffix, sort)\u001b[0m\n\u001b[1;32m   5314\u001b[0m         \u001b[0;31m# For SparseDataFrame's benefit\u001b[0m\u001b[0;34m\u001b[0m\u001b[0;34m\u001b[0m\u001b[0m\n\u001b[1;32m   5315\u001b[0m         return self._join_compat(other, on=on, how=how, lsuffix=lsuffix,\n\u001b[0;32m-> 5316\u001b[0;31m                                  rsuffix=rsuffix, sort=sort)\n\u001b[0m\u001b[1;32m   5317\u001b[0m \u001b[0;34m\u001b[0m\u001b[0m\n\u001b[1;32m   5318\u001b[0m     def _join_compat(self, other, on=None, how='left', lsuffix='', rsuffix='',\n",
      "\u001b[0;32m/usr/local/lib/python3.5/dist-packages/pandas/core/frame.py\u001b[0m in \u001b[0;36m_join_compat\u001b[0;34m(self, other, on, how, lsuffix, rsuffix, sort)\u001b[0m\n\u001b[1;32m   5329\u001b[0m             return merge(self, other, left_on=on, how=how,\n\u001b[1;32m   5330\u001b[0m                          \u001b[0mleft_index\u001b[0m\u001b[0;34m=\u001b[0m\u001b[0mon\u001b[0m \u001b[0;32mis\u001b[0m \u001b[0;32mNone\u001b[0m\u001b[0;34m,\u001b[0m \u001b[0mright_index\u001b[0m\u001b[0;34m=\u001b[0m\u001b[0;32mTrue\u001b[0m\u001b[0;34m,\u001b[0m\u001b[0;34m\u001b[0m\u001b[0m\n\u001b[0;32m-> 5331\u001b[0;31m                          suffixes=(lsuffix, rsuffix), sort=sort)\n\u001b[0m\u001b[1;32m   5332\u001b[0m         \u001b[0;32melse\u001b[0m\u001b[0;34m:\u001b[0m\u001b[0;34m\u001b[0m\u001b[0m\n\u001b[1;32m   5333\u001b[0m             \u001b[0;32mif\u001b[0m \u001b[0mon\u001b[0m \u001b[0;32mis\u001b[0m \u001b[0;32mnot\u001b[0m \u001b[0;32mNone\u001b[0m\u001b[0;34m:\u001b[0m\u001b[0;34m\u001b[0m\u001b[0m\n",
      "\u001b[0;32m/usr/local/lib/python3.5/dist-packages/pandas/core/reshape/merge.py\u001b[0m in \u001b[0;36mmerge\u001b[0;34m(left, right, how, on, left_on, right_on, left_index, right_index, sort, suffixes, copy, indicator, validate)\u001b[0m\n\u001b[1;32m     56\u001b[0m                          \u001b[0mcopy\u001b[0m\u001b[0;34m=\u001b[0m\u001b[0mcopy\u001b[0m\u001b[0;34m,\u001b[0m \u001b[0mindicator\u001b[0m\u001b[0;34m=\u001b[0m\u001b[0mindicator\u001b[0m\u001b[0;34m,\u001b[0m\u001b[0;34m\u001b[0m\u001b[0m\n\u001b[1;32m     57\u001b[0m                          validate=validate)\n\u001b[0;32m---> 58\u001b[0;31m     \u001b[0;32mreturn\u001b[0m \u001b[0mop\u001b[0m\u001b[0;34m.\u001b[0m\u001b[0mget_result\u001b[0m\u001b[0;34m(\u001b[0m\u001b[0;34m)\u001b[0m\u001b[0;34m\u001b[0m\u001b[0m\n\u001b[0m\u001b[1;32m     59\u001b[0m \u001b[0;34m\u001b[0m\u001b[0m\n\u001b[1;32m     60\u001b[0m \u001b[0;34m\u001b[0m\u001b[0m\n",
      "\u001b[0;32m/usr/local/lib/python3.5/dist-packages/pandas/core/reshape/merge.py\u001b[0m in \u001b[0;36mget_result\u001b[0;34m(self)\u001b[0m\n\u001b[1;32m    586\u001b[0m \u001b[0;34m\u001b[0m\u001b[0m\n\u001b[1;32m    587\u001b[0m         llabels, rlabels = items_overlap_with_suffix(ldata.items, lsuf,\n\u001b[0;32m--> 588\u001b[0;31m                                                      rdata.items, rsuf)\n\u001b[0m\u001b[1;32m    589\u001b[0m \u001b[0;34m\u001b[0m\u001b[0m\n\u001b[1;32m    590\u001b[0m         \u001b[0mlindexers\u001b[0m \u001b[0;34m=\u001b[0m \u001b[0;34m{\u001b[0m\u001b[0;36m1\u001b[0m\u001b[0;34m:\u001b[0m \u001b[0mleft_indexer\u001b[0m\u001b[0;34m}\u001b[0m \u001b[0;32mif\u001b[0m \u001b[0mleft_indexer\u001b[0m \u001b[0;32mis\u001b[0m \u001b[0;32mnot\u001b[0m \u001b[0;32mNone\u001b[0m \u001b[0;32melse\u001b[0m \u001b[0;34m{\u001b[0m\u001b[0;34m}\u001b[0m\u001b[0;34m\u001b[0m\u001b[0m\n",
      "\u001b[0;32m/usr/local/lib/python3.5/dist-packages/pandas/core/internals.py\u001b[0m in \u001b[0;36mitems_overlap_with_suffix\u001b[0;34m(left, lsuffix, right, rsuffix)\u001b[0m\n\u001b[1;32m   5024\u001b[0m         \u001b[0;32mif\u001b[0m \u001b[0;32mnot\u001b[0m \u001b[0mlsuffix\u001b[0m \u001b[0;32mand\u001b[0m \u001b[0;32mnot\u001b[0m \u001b[0mrsuffix\u001b[0m\u001b[0;34m:\u001b[0m\u001b[0;34m\u001b[0m\u001b[0m\n\u001b[1;32m   5025\u001b[0m             raise ValueError('columns overlap but no suffix specified: %s' %\n\u001b[0;32m-> 5026\u001b[0;31m                              to_rename)\n\u001b[0m\u001b[1;32m   5027\u001b[0m \u001b[0;34m\u001b[0m\u001b[0m\n\u001b[1;32m   5028\u001b[0m         \u001b[0;32mdef\u001b[0m \u001b[0mlrenamer\u001b[0m\u001b[0;34m(\u001b[0m\u001b[0mx\u001b[0m\u001b[0;34m)\u001b[0m\u001b[0;34m:\u001b[0m\u001b[0;34m\u001b[0m\u001b[0m\n",
      "\u001b[0;31mValueError\u001b[0m: columns overlap but no suffix specified: Index(['close'], dtype='object')"
     ]
    }
   ],
   "source": [
    "df = pd.read_csv(\"/home/mihir/internship/google_stock/GOOGL.csv\")\n",
    "close1=df.iloc[:,4]\n",
    "close1=close1.shift(1)\n",
    "close1.head()\n",
    "df=df.join(close1,lsuffix='', rsuffix='')\n",
    "df=df.dropna()\n",
    "df.head()\n",
    "df = df.drop(['adjusted_close','dividend_amount','split_coefficient'], axis=1)\n",
    "df.dtypes\n",
    "df['timestamp'] = pd.to_datetime(df.timestamp)\n",
    "df.dtypes\n",
    "df = df.sort_values('timestamp')\n",
    "df.describe()\n"
   ]
  },
  {
   "cell_type": "code",
   "execution_count": 4,
   "metadata": {},
   "outputs": [
    {
     "data": {
      "text/plain": [
       "3421    44659000\n",
       "3420    22834300\n",
       "3419    18256100\n",
       "3418    15247300\n",
       "3417     9188600\n",
       "3416     7094800\n",
       "3415     6211700\n",
       "3414     5196700\n",
       "3413     4917800\n",
       "3412     9138200\n",
       "Name: volume, dtype: int64"
      ]
     },
     "execution_count": 4,
     "metadata": {},
     "output_type": "execute_result"
    }
   ],
   "source": [
    "y = df['close_close1']\n",
    "cols = ['open', 'high', 'close_df', 'volume']\n",
    "x = df[cols]\n",
    "y.head()\n",
    "x.head()\n",
    "x.iloc[0:10, 3]"
   ]
  },
  {
   "cell_type": "code",
   "execution_count": 6,
   "metadata": {},
   "outputs": [],
   "source": [
    "scaler_x = preprocessing.MinMaxScaler(feature_range =(-1,1))\n",
    "x = np.array(x).reshape((len(x), len(cols)))\n",
    "x = scaler_x.fit_transform(x)\n",
    "\n",
    "scaler_y = preprocessing.MinMaxScaler(feature_range=(-1,1))\n",
    "y = np.array(y).reshape((len(y), 1))\n",
    "y = scaler_y.fit_transform(y)\n"
   ]
  },
  {
   "cell_type": "code",
   "execution_count": 33,
   "metadata": {},
   "outputs": [
    {
     "data": {
      "text/plain": [
       "2736"
      ]
     },
     "execution_count": 33,
     "metadata": {},
     "output_type": "execute_result"
    }
   ],
   "source": [
    "data_len=len(x)\n",
    "train_len= data_len*0.8\n",
    "train_len= int(train_len)\n",
    "\n",
    "x_train = x[0:train_len,0:4 ]\n",
    "x_test = x[train_len+1:data_len,0:4 ]\n",
    "\n",
    "y_train = y[0:train_len ]\n",
    "y_test = y[train_len+1:data_len ]\n",
    "\n",
    "#print(x_train.shape + (1,))\n",
    "\n",
    "x_train = np.array(x_train).reshape(x_train.shape + (1,))\n",
    "#x_test = np.array(x_test).reshape(x_test.shape+(1,))\n",
    "\n",
    "y_train.shape[0]\n",
    "\n"
   ]
  },
  {
   "cell_type": "code",
   "execution_count": 17,
   "metadata": {},
   "outputs": [
    {
     "name": "stderr",
     "output_type": "stream",
     "text": [
      "Using TensorFlow backend.\n"
     ]
    }
   ],
   "source": [
    "from keras.models import Sequential\n",
    "from keras.layers.core import Dense\n",
    "from keras.layers.recurrent import LSTM\n",
    "from keras.layers import Dropout"
   ]
  },
  {
   "cell_type": "code",
   "execution_count": 154,
   "metadata": {},
   "outputs": [
    {
     "name": "stderr",
     "output_type": "stream",
     "text": [
      "/usr/local/lib/python3.5/dist-packages/ipykernel_launcher.py:4: UserWarning: Update your `LSTM` call to the Keras 2 API: `LSTM(1000, recurrent_activation=\"hard_sigmoid\", input_shape=(4, 1), activation=\"tanh\")`\n",
      "  after removing the cwd from sys.path.\n",
      "/usr/local/lib/python3.5/dist-packages/ipykernel_launcher.py:6: UserWarning: Update your `Dense` call to the Keras 2 API: `Dense(activation=\"linear\", units=1)`\n",
      "  \n",
      "/usr/local/lib/python3.5/dist-packages/keras/models.py:942: UserWarning: The `nb_epoch` argument in `fit` has been renamed `epochs`.\n",
      "  warnings.warn('The `nb_epoch` argument in `fit` '\n"
     ]
    },
    {
     "name": "stdout",
     "output_type": "stream",
     "text": [
      "Epoch 1/25\n",
      "2736/2736 [==============================] - 43s 16ms/step - loss: 276820.1365\n",
      "Epoch 2/25\n",
      "2736/2736 [==============================] - 40s 15ms/step - loss: 216497.2282\n",
      "Epoch 3/25\n",
      "2736/2736 [==============================] - 40s 15ms/step - loss: 170283.5754\n",
      "Epoch 4/25\n",
      "2736/2736 [==============================] - 40s 15ms/step - loss: 141158.0445\n",
      "Epoch 5/25\n",
      "2736/2736 [==============================] - 40s 15ms/step - loss: 115761.5445\n",
      "Epoch 6/25\n",
      "2736/2736 [==============================] - 40s 15ms/step - loss: 99328.6425\n",
      "Epoch 7/25\n",
      "2736/2736 [==============================] - 40s 15ms/step - loss: 78539.9067\n",
      "Epoch 8/25\n",
      "2736/2736 [==============================] - 40s 15ms/step - loss: 68269.7830\n",
      "Epoch 9/25\n",
      "2736/2736 [==============================] - 40s 15ms/step - loss: 60510.8196\n",
      "Epoch 10/25\n",
      "2736/2736 [==============================] - 40s 15ms/step - loss: 55369.8840\n",
      "Epoch 11/25\n",
      "2736/2736 [==============================] - 40s 15ms/step - loss: 54901.2661\n",
      "Epoch 12/25\n",
      "2736/2736 [==============================] - 41s 15ms/step - loss: 52965.4005\n",
      "Epoch 13/25\n",
      "2736/2736 [==============================] - 41s 15ms/step - loss: 55728.2395\n",
      "Epoch 14/25\n",
      "2736/2736 [==============================] - 41s 15ms/step - loss: 53171.4888\n",
      "Epoch 15/25\n",
      "2736/2736 [==============================] - 41s 15ms/step - loss: 50651.8395\n",
      "Epoch 16/25\n",
      "2736/2736 [==============================] - 49s 18ms/step - loss: 49340.9454\n",
      "Epoch 17/25\n",
      "2736/2736 [==============================] - 55s 20ms/step - loss: 47497.1018\n",
      "Epoch 18/25\n",
      "2736/2736 [==============================] - 49s 18ms/step - loss: 43155.5689\n",
      "Epoch 19/25\n",
      "2736/2736 [==============================] - 58s 21ms/step - loss: 42596.9627\n",
      "Epoch 20/25\n",
      "2736/2736 [==============================] - 51s 19ms/step - loss: 36466.2785\n",
      "Epoch 21/25\n",
      "2736/2736 [==============================] - 44s 16ms/step - loss: 35972.0206\n",
      "Epoch 22/25\n",
      "2736/2736 [==============================] - 48s 18ms/step - loss: 34365.5045\n",
      "Epoch 23/25\n",
      "2736/2736 [==============================] - 49s 18ms/step - loss: 33613.5845\n",
      "Epoch 24/25\n",
      "2736/2736 [==============================] - 41s 15ms/step - loss: 32520.3397\n",
      "Epoch 25/25\n",
      "2736/2736 [==============================] - 42s 15ms/step - loss: 31914.0816\n"
     ]
    },
    {
     "ename": "NameError",
     "evalue": "name 'fit2' is not defined",
     "output_type": "error",
     "traceback": [
      "\u001b[0;31m---------------------------------------------------------------------------\u001b[0m",
      "\u001b[0;31mNameError\u001b[0m                                 Traceback (most recent call last)",
      "\u001b[0;32m<ipython-input-154-6fe70473ab4b>\u001b[0m in \u001b[0;36m<module>\u001b[0;34m()\u001b[0m\n\u001b[1;32m      9\u001b[0m \u001b[0mfit1\u001b[0m\u001b[0;34m.\u001b[0m\u001b[0mfit\u001b[0m\u001b[0;34m(\u001b[0m\u001b[0mx_train\u001b[0m\u001b[0;34m,\u001b[0m \u001b[0my_train\u001b[0m\u001b[0;34m,\u001b[0m \u001b[0mbatch_size\u001b[0m\u001b[0;34m=\u001b[0m\u001b[0;36m16\u001b[0m\u001b[0;34m,\u001b[0m \u001b[0mnb_epoch\u001b[0m\u001b[0;34m=\u001b[0m\u001b[0;36m25\u001b[0m\u001b[0;34m,\u001b[0m \u001b[0mshuffle\u001b[0m\u001b[0;34m=\u001b[0m \u001b[0;32mFalse\u001b[0m\u001b[0;34m)\u001b[0m\u001b[0;34m\u001b[0m\u001b[0m\n\u001b[1;32m     10\u001b[0m \u001b[0;34m\u001b[0m\u001b[0m\n\u001b[0;32m---> 11\u001b[0;31m \u001b[0mprint\u001b[0m\u001b[0;34m(\u001b[0m\u001b[0mfit2\u001b[0m\u001b[0;34m.\u001b[0m\u001b[0msummery\u001b[0m\u001b[0;34m(\u001b[0m\u001b[0;34m)\u001b[0m\u001b[0;34m)\u001b[0m\u001b[0;34m\u001b[0m\u001b[0m\n\u001b[0m",
      "\u001b[0;31mNameError\u001b[0m: name 'fit2' is not defined"
     ]
    }
   ],
   "source": [
    "seed = 2016\n",
    "np.random.seed(seed)\n",
    "fit1 = Sequential()\n",
    "fit1.add(LSTM(1000, activation='tanh', inner_activation = 'hard_sigmoid', input_shape =(len(cols),1) ))\n",
    "fit1.add(Dropout(0.2))\n",
    "fit1.add(Dense(output_dim =1, activation = 'linear'))\n",
    "\n",
    "fit1.compile(loss =\"mean_squared_error\", optimizer=\"adam\")\n",
    "fit1.fit(x_train, y_train, batch_size=16, nb_epoch=25, shuffle= False)\n",
    "\n",
    "print(fit1.summery())"
   ]
  },
  {
   "cell_type": "code",
   "execution_count": 155,
   "metadata": {},
   "outputs": [
    {
     "name": "stdout",
     "output_type": "stream",
     "text": [
      "2736/2736 [==============================] - 49s 18ms/step\n",
      "684/684 [==============================] - 12s 18ms/step\n",
      " in train MSE =  25657.1066\n",
      " in test MSE =  111768.11339432176\n"
     ]
    }
   ],
   "source": [
    "score_train = fit1.evaluate (x_train, y_train, batch_size =1)\n",
    "score_test = fit1.evaluate (x_test, y_test, batch_size =1)\n",
    "print (\" in train MSE = \", round( score_train ,4)) \n",
    "print (\" in test MSE = \", score_test )\n",
    " "
   ]
  },
  {
   "cell_type": "code",
   "execution_count": 156,
   "metadata": {},
   "outputs": [
    {
     "name": "stdout",
     "output_type": "stream",
     "text": [
      "_________________________________________________________________\n",
      "Layer (type)                 Output Shape              Param #   \n",
      "=================================================================\n",
      "lstm_1 (LSTM)                (None, 1000)              4008000   \n",
      "_________________________________________________________________\n",
      "dropout_1 (Dropout)          (None, 1000)              0         \n",
      "_________________________________________________________________\n",
      "dense_1 (Dense)              (None, 1)                 1001      \n",
      "=================================================================\n",
      "Total params: 4,009,001\n",
      "Trainable params: 4,009,001\n",
      "Non-trainable params: 0\n",
      "_________________________________________________________________\n",
      "Inputs: (None, 4, 1)\n",
      "Outputs: (None, 1)\n",
      "Actual input: (684, 4, 1)\n",
      "Actual output: (684,)\n",
      "prediction data:\n",
      "[540.8171]\n",
      "actual data\n",
      "[[5.422500e+02 5.485800e+02 5.456200e+02 1.280687e+06]\n",
      " [5.474300e+02 5.510000e+02 5.500300e+02 1.679759e+06]\n",
      " [5.456000e+02 5.482800e+02 5.417000e+02 1.383065e+06]\n",
      " ...\n",
      " [1.117760e+03 1.119370e+03 1.100070e+03 3.076349e+06]\n",
      " [1.098400e+03 1.105550e+03 1.095800e+03 2.709310e+06]\n",
      " [1.092570e+03 1.108700e+03 1.094000e+03 1.990515e+06]]\n"
     ]
    }
   ],
   "source": [
    "pred1 = fit1.predict (x_test) \n",
    "pred1 = scaler_y.inverse_transform (np. array (pred1). reshape ((len( pred1), 1)))\n",
    "     \n",
    "  \n",
    " \n",
    "  \n",
    "prediction_data = pred1[-1]     \n",
    "    \n",
    " \n",
    "fit1.summary()\n",
    "print (\"Inputs: {}\".format(fit1.input_shape))\n",
    "print (\"Outputs: {}\".format(fit1.output_shape))\n",
    "print (\"Actual input: {}\".format(x_test.shape))\n",
    "print (\"Actual output: {}\".format(y_test.shape))\n",
    "   \n",
    " \n",
    "print (\"prediction data:\")\n",
    "print (prediction_data)\n",
    "\n",
    "print (\"actual data\")\n",
    "x_test = scaler_x.inverse_transform (np. array (x_test). reshape ((len( x_test), len(cols))))\n",
    "print (x_test)"
   ]
  },
  {
   "cell_type": "code",
   "execution_count": 157,
   "metadata": {},
   "outputs": [
    {
     "name": "stderr",
     "output_type": "stream",
     "text": [
      "/usr/local/lib/python3.5/dist-packages/matplotlib/cbook/deprecation.py:106: MatplotlibDeprecationWarning: Adding an axes using the same arguments as a previous axes currently reuses the earlier instance.  In a future version, a new instance will always be created and returned.  Meanwhile, this warning can be suppressed, and the future behavior ensured, by passing a unique label to each axes instance.\n",
      "  warnings.warn(message, mplDeprecation, stacklevel=1)\n"
     ]
    },
    {
     "data": {
      "image/png": "[encoded data removed]",
      "text/plain": [
       "<matplotlib.figure.Figure at 0x7fe6d0971a90>"
      ]
     },
     "metadata": {},
     "output_type": "display_data"
    }
   ],
   "source": [
    "plt.plot(pred1, label=\"predictions\")\n",
    " \n",
    " \n",
    "y_test = scaler_y.inverse_transform (np. array (y_test). reshape ((len( y_test), 1)))\n",
    "plt.plot( [row[0] for row in y_test], label=\"actual\")\n",
    " \n",
    "plt.legend(loc='upper center', bbox_to_anchor=(0.5, -0.05),\n",
    "          fancybox=True, shadow=True, ncol=2)\n",
    " \n",
    "import matplotlib.ticker as mtick\n",
    "fmt = '$%.0f'\n",
    "tick = mtick.FormatStrFormatter(fmt)\n",
    " \n",
    "ax = plt.axes()\n",
    "ax.yaxis.set_major_formatter(tick)\n",
    " \n",
    " \n",
    "plt.show()"
   ]
  }
 ],
 "metadata": {
  "kernelspec": {
   "display_name": "Python 3",
   "language": "python",
   "name": "python3"
  },
  "language_info": {
   "codemirror_mode": {
    "name": "ipython",
    "version": 3
   },
   "file_extension": ".py",
   "mimetype": "text/x-python",
   "name": "python",
   "nbconvert_exporter": "python",
   "pygments_lexer": "ipython3",
   "version": "3.5.2"
  }
 },
 "nbformat": 4,
 "nbformat_minor": 2
}
