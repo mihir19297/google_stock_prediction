{
 "cells": [
  {
   "cell_type": "markdown",
   "metadata": {},
   "source": [
    "Importing libraries only when necessary."
   ]
  },
  {
   "cell_type": "code",
   "execution_count": 1,
   "metadata": {},
   "outputs": [],
   "source": [
    "import pandas as pd\n",
    "import numpy as np\n",
    "from sklearn import preprocessing\n",
    "from matplotlib import pyplot as plt"
   ]
  },
  {
   "cell_type": "markdown",
   "metadata": {},
   "source": [
    "Reading data and droping useless features"
   ]
  },
  {
   "cell_type": "code",
   "execution_count": 159,
   "metadata": {},
   "outputs": [
    {
     "data": {
      "text/plain": [
       "pandas.core.series.Series"
      ]
     },
     "execution_count": 159,
     "metadata": {},
     "output_type": "execute_result"
    }
   ],
   "source": [
    "g_stock = pd.read_csv(\"/home/mihir/internship/google_stock/GOOGL.csv\")\n",
    "\n",
    "g_stock.drop(['close','dividend_amount','split_coefficient'],1,inplace=True)\n",
    "g_stock.head()\n",
    "g_stock['close'] = g_stock.adjusted_close\n",
    "g_stock.drop(['adjusted_close'],1,inplace=True)\n",
    "g_stock.head()\n",
    "\n",
    "ab = g_stock['close'] \n",
    "type(ab)"
   ]
  },
  {
   "cell_type": "code",
   "execution_count": 3,
   "metadata": {},
   "outputs": [
    {
     "data": {
      "text/html": [
       "<div>\n",
       "<style scoped>\n",
       "    .dataframe tbody tr th:only-of-type {\n",
       "        vertical-align: middle;\n",
       "    }\n",
       "\n",
       "    .dataframe tbody tr th {\n",
       "        vertical-align: top;\n",
       "    }\n",
       "\n",
       "    .dataframe thead th {\n",
       "        text-align: right;\n",
       "    }\n",
       "</style>\n",
       "<table border=\"1\" class=\"dataframe\">\n",
       "  <thead>\n",
       "    <tr style=\"text-align: right;\">\n",
       "      <th></th>\n",
       "      <th>open</th>\n",
       "      <th>high</th>\n",
       "      <th>low</th>\n",
       "      <th>volume</th>\n",
       "      <th>close</th>\n",
       "    </tr>\n",
       "  </thead>\n",
       "  <tbody>\n",
       "    <tr>\n",
       "      <th>count</th>\n",
       "      <td>3422.000000</td>\n",
       "      <td>3422.000000</td>\n",
       "      <td>3422.000000</td>\n",
       "      <td>3.422000e+03</td>\n",
       "      <td>3422.000000</td>\n",
       "    </tr>\n",
       "    <tr>\n",
       "      <th>mean</th>\n",
       "      <td>596.329742</td>\n",
       "      <td>601.775460</td>\n",
       "      <td>590.336500</td>\n",
       "      <td>7.819917e+06</td>\n",
       "      <td>408.703939</td>\n",
       "    </tr>\n",
       "    <tr>\n",
       "      <th>std</th>\n",
       "      <td>226.779285</td>\n",
       "      <td>227.575792</td>\n",
       "      <td>225.703801</td>\n",
       "      <td>8.250848e+06</td>\n",
       "      <td>257.431789</td>\n",
       "    </tr>\n",
       "    <tr>\n",
       "      <th>min</th>\n",
       "      <td>99.090000</td>\n",
       "      <td>101.740000</td>\n",
       "      <td>95.960000</td>\n",
       "      <td>3.845900e+04</td>\n",
       "      <td>50.159800</td>\n",
       "    </tr>\n",
       "    <tr>\n",
       "      <th>25%</th>\n",
       "      <td>461.072500</td>\n",
       "      <td>465.297500</td>\n",
       "      <td>455.915000</td>\n",
       "      <td>2.428416e+06</td>\n",
       "      <td>231.221250</td>\n",
       "    </tr>\n",
       "    <tr>\n",
       "      <th>50%</th>\n",
       "      <td>565.005000</td>\n",
       "      <td>569.555000</td>\n",
       "      <td>559.780000</td>\n",
       "      <td>5.077000e+06</td>\n",
       "      <td>300.033700</td>\n",
       "    </tr>\n",
       "    <tr>\n",
       "      <th>75%</th>\n",
       "      <td>735.502500</td>\n",
       "      <td>739.972500</td>\n",
       "      <td>728.193125</td>\n",
       "      <td>1.021830e+07</td>\n",
       "      <td>561.084125</td>\n",
       "    </tr>\n",
       "    <tr>\n",
       "      <th>max</th>\n",
       "      <td>1226.800000</td>\n",
       "      <td>1228.880000</td>\n",
       "      <td>1218.600000</td>\n",
       "      <td>8.215110e+07</td>\n",
       "      <td>1187.560000</td>\n",
       "    </tr>\n",
       "  </tbody>\n",
       "</table>\n",
       "</div>"
      ],
      "text/plain": [
       "              open         high          low        volume        close\n",
       "count  3422.000000  3422.000000  3422.000000  3.422000e+03  3422.000000\n",
       "mean    596.329742   601.775460   590.336500  7.819917e+06   408.703939\n",
       "std     226.779285   227.575792   225.703801  8.250848e+06   257.431789\n",
       "min      99.090000   101.740000    95.960000  3.845900e+04    50.159800\n",
       "25%     461.072500   465.297500   455.915000  2.428416e+06   231.221250\n",
       "50%     565.005000   569.555000   559.780000  5.077000e+06   300.033700\n",
       "75%     735.502500   739.972500   728.193125  1.021830e+07   561.084125\n",
       "max    1226.800000  1228.880000  1218.600000  8.215110e+07  1187.560000"
      ]
     },
     "execution_count": 3,
     "metadata": {},
     "output_type": "execute_result"
    }
   ],
   "source": [
    "g_stock.size\n",
    "g_stock.tail()\n",
    "g_stock.describe()"
   ]
  },
  {
   "cell_type": "markdown",
   "metadata": {},
   "source": [
    "Here g_stock has 20532 records from 2004-8-25 till 2018-3-25  \n",
    "All columns are using nearly same range except volume hence doing column by column normalizing"
   ]
  },
  {
   "cell_type": "code",
   "execution_count": 48,
   "metadata": {},
   "outputs": [
    {
     "name": "stderr",
     "output_type": "stream",
     "text": [
      "/usr/local/lib/python3.5/dist-packages/ipykernel_launcher.py:8: FutureWarning: reshape is deprecated and will raise in a subsequent release. Please use .values.reshape(...) instead\n",
      "  \n"
     ]
    },
    {
     "data": {
      "text/plain": [
       "array([0.00414067])"
      ]
     },
     "execution_count": 48,
     "metadata": {},
     "output_type": "execute_result"
    }
   ],
   "source": [
    "min_max_scaler = preprocessing.MinMaxScaler()\n",
    "g_stock['open'] = min_max_scaler.fit_transform(g_stock.open.values.reshape(-1,1))\n",
    "g_stock['high'] = min_max_scaler.fit_transform(g_stock.high.values.reshape(-1,1))\n",
    "g_stock['low'] = min_max_scaler.fit_transform(g_stock.low.values.reshape(-1,1))\n",
    "g_stock['volume'] = min_max_scaler.fit_transform(g_stock.volume.values.reshape(-1,1))\n",
    "g_stock['close'] = min_max_scaler.fit_transform(g_stock.close.values.reshape(-1,1))\n",
    "\n",
    "ab = min_max_scaler.inverse_transform(g_stock['close'].reshape(-1,1))\n",
    "ab[2]"
   ]
  },
  {
   "cell_type": "code",
   "execution_count": null,
   "metadata": {},
   "outputs": [],
   "source": [
    "MY OWN NORMALIZE FUNCTION"
   ]
  },
  {
   "cell_type": "code",
   "execution_count": 164,
   "metadata": {},
   "outputs": [
    {
     "data": {
      "text/html": [
       "<div>\n",
       "<style scoped>\n",
       "    .dataframe tbody tr th:only-of-type {\n",
       "        vertical-align: middle;\n",
       "    }\n",
       "\n",
       "    .dataframe tbody tr th {\n",
       "        vertical-align: top;\n",
       "    }\n",
       "\n",
       "    .dataframe thead th {\n",
       "        text-align: right;\n",
       "    }\n",
       "</style>\n",
       "<table border=\"1\" class=\"dataframe\">\n",
       "  <thead>\n",
       "    <tr style=\"text-align: right;\">\n",
       "      <th></th>\n",
       "      <th>timestamp</th>\n",
       "      <th>open</th>\n",
       "      <th>high</th>\n",
       "      <th>low</th>\n",
       "      <th>volume</th>\n",
       "      <th>close</th>\n",
       "    </tr>\n",
       "  </thead>\n",
       "  <tbody>\n",
       "    <tr>\n",
       "      <th>0</th>\n",
       "      <td>2018-03-22</td>\n",
       "      <td>1080.01</td>\n",
       "      <td>1083.92</td>\n",
       "      <td>1049.64</td>\n",
       "      <td>3418154</td>\n",
       "      <td>1053.15</td>\n",
       "    </tr>\n",
       "    <tr>\n",
       "      <th>1</th>\n",
       "      <td>2018-03-21</td>\n",
       "      <td>1092.57</td>\n",
       "      <td>1108.70</td>\n",
       "      <td>1087.21</td>\n",
       "      <td>1990515</td>\n",
       "      <td>1094.00</td>\n",
       "    </tr>\n",
       "    <tr>\n",
       "      <th>2</th>\n",
       "      <td>2018-03-20</td>\n",
       "      <td>1098.40</td>\n",
       "      <td>1105.55</td>\n",
       "      <td>1082.42</td>\n",
       "      <td>2709310</td>\n",
       "      <td>1095.80</td>\n",
       "    </tr>\n",
       "    <tr>\n",
       "      <th>3</th>\n",
       "      <td>2018-03-19</td>\n",
       "      <td>1117.76</td>\n",
       "      <td>1119.37</td>\n",
       "      <td>1088.92</td>\n",
       "      <td>3076349</td>\n",
       "      <td>1100.07</td>\n",
       "    </tr>\n",
       "    <tr>\n",
       "      <th>4</th>\n",
       "      <td>2018-03-16</td>\n",
       "      <td>1155.35</td>\n",
       "      <td>1156.81</td>\n",
       "      <td>1131.36</td>\n",
       "      <td>2654602</td>\n",
       "      <td>1134.42</td>\n",
       "    </tr>\n",
       "  </tbody>\n",
       "</table>\n",
       "</div>"
      ],
      "text/plain": [
       "    timestamp     open     high      low   volume    close\n",
       "0  2018-03-22  1080.01  1083.92  1049.64  3418154  1053.15\n",
       "1  2018-03-21  1092.57  1108.70  1087.21  1990515  1094.00\n",
       "2  2018-03-20  1098.40  1105.55  1082.42  2709310  1095.80\n",
       "3  2018-03-19  1117.76  1119.37  1088.92  3076349  1100.07\n",
       "4  2018-03-16  1155.35  1156.81  1131.36  2654602  1134.42"
      ]
     },
     "execution_count": 164,
     "metadata": {},
     "output_type": "execute_result"
    }
   ],
   "source": [
    "g_stock1 = pd.read_csv(\"/home/mihir/internship/google_stock/GOOGL.csv\")\n",
    "\n",
    "g_stock1.drop(['close','dividend_amount','split_coefficient'],1,inplace=True)\n",
    "\n",
    "g_stock1['close'] = g_stock1.adjusted_close\n",
    "g_stock1.drop(['adjusted_close'],1,inplace=True)\n",
    "\n",
    "g_stock1.head()"
   ]
  },
  {
   "cell_type": "code",
   "execution_count": null,
   "metadata": {},
   "outputs": [],
   "source": [
    "mean=0\n",
    "std=0\n",
    "n_z = []\n",
    "def normalize(z):\n",
    "    mean = z.mean()\n",
    "    std = z.std()\n",
    "    for i in z:\n",
    "        i =(i-mean)/std\n",
    "        n_z.append(i)\n",
    "    return pd.DataFrame(n_z)\n",
    "g_stock1['open'] = normalize(g_stock1.open)\n",
    "g_stock1['close'] = normalize(g_stock1.close)\n",
    "g_stock1['high'] = normalize(g_stock1.high)\n",
    "g_stock1['low'] = normalize(g_stock1.low)\n",
    "g_stock1['volume'] = normalize(g_stock1.volume)\n",
    "\n",
    "g_stock1.head()\n",
    "\n",
    "\n"
   ]
  },
  {
   "cell_type": "markdown",
   "metadata": {},
   "source": [
    "Sort data as per timestamp"
   ]
  },
  {
   "cell_type": "code",
   "execution_count": 5,
   "metadata": {},
   "outputs": [
    {
     "data": {
      "text/html": [
       "<div>\n",
       "<style scoped>\n",
       "    .dataframe tbody tr th:only-of-type {\n",
       "        vertical-align: middle;\n",
       "    }\n",
       "\n",
       "    .dataframe tbody tr th {\n",
       "        vertical-align: top;\n",
       "    }\n",
       "\n",
       "    .dataframe thead th {\n",
       "        text-align: right;\n",
       "    }\n",
       "</style>\n",
       "<table border=\"1\" class=\"dataframe\">\n",
       "  <thead>\n",
       "    <tr style=\"text-align: right;\">\n",
       "      <th></th>\n",
       "      <th>timestamp</th>\n",
       "      <th>open</th>\n",
       "      <th>high</th>\n",
       "      <th>low</th>\n",
       "      <th>volume</th>\n",
       "      <th>close</th>\n",
       "    </tr>\n",
       "  </thead>\n",
       "  <tbody>\n",
       "    <tr>\n",
       "      <th>3409</th>\n",
       "      <td>2018-03-06</td>\n",
       "      <td>0.889422</td>\n",
       "      <td>0.890652</td>\n",
       "      <td>0.889457</td>\n",
       "      <td>0.013769</td>\n",
       "      <td>0.923809</td>\n",
       "    </tr>\n",
       "    <tr>\n",
       "      <th>3410</th>\n",
       "      <td>2018-03-07</td>\n",
       "      <td>0.881193</td>\n",
       "      <td>0.900030</td>\n",
       "      <td>0.885368</td>\n",
       "      <td>0.018255</td>\n",
       "      <td>0.936241</td>\n",
       "    </tr>\n",
       "    <tr>\n",
       "      <th>3411</th>\n",
       "      <td>2018-03-08</td>\n",
       "      <td>0.902812</td>\n",
       "      <td>0.913551</td>\n",
       "      <td>0.909677</td>\n",
       "      <td>0.017927</td>\n",
       "      <td>0.948848</td>\n",
       "    </tr>\n",
       "    <tr>\n",
       "      <th>3412</th>\n",
       "      <td>2018-03-09</td>\n",
       "      <td>0.922586</td>\n",
       "      <td>0.939777</td>\n",
       "      <td>0.924900</td>\n",
       "      <td>0.024743</td>\n",
       "      <td>0.976508</td>\n",
       "    </tr>\n",
       "    <tr>\n",
       "      <th>3413</th>\n",
       "      <td>2018-03-12</td>\n",
       "      <td>0.945243</td>\n",
       "      <td>0.955001</td>\n",
       "      <td>0.947089</td>\n",
       "      <td>0.025463</td>\n",
       "      <td>0.980983</td>\n",
       "    </tr>\n",
       "    <tr>\n",
       "      <th>3414</th>\n",
       "      <td>2018-03-13</td>\n",
       "      <td>0.951255</td>\n",
       "      <td>0.954859</td>\n",
       "      <td>0.925150</td>\n",
       "      <td>0.025465</td>\n",
       "      <td>0.958106</td>\n",
       "    </tr>\n",
       "    <tr>\n",
       "      <th>3415</th>\n",
       "      <td>2018-03-14</td>\n",
       "      <td>0.928173</td>\n",
       "      <td>0.938677</td>\n",
       "      <td>0.932080</td>\n",
       "      <td>0.024299</td>\n",
       "      <td>0.966001</td>\n",
       "    </tr>\n",
       "    <tr>\n",
       "      <th>3416</th>\n",
       "      <td>2018-03-15</td>\n",
       "      <td>0.931516</td>\n",
       "      <td>0.941108</td>\n",
       "      <td>0.926121</td>\n",
       "      <td>0.019308</td>\n",
       "      <td>0.967514</td>\n",
       "    </tr>\n",
       "    <tr>\n",
       "      <th>3417</th>\n",
       "      <td>2018-03-16</td>\n",
       "      <td>0.936642</td>\n",
       "      <td>0.936059</td>\n",
       "      <td>0.922290</td>\n",
       "      <td>0.031860</td>\n",
       "      <td>0.953279</td>\n",
       "    </tr>\n",
       "    <tr>\n",
       "      <th>3418</th>\n",
       "      <td>2018-03-19</td>\n",
       "      <td>0.903308</td>\n",
       "      <td>0.902843</td>\n",
       "      <td>0.884487</td>\n",
       "      <td>0.036997</td>\n",
       "      <td>0.923079</td>\n",
       "    </tr>\n",
       "    <tr>\n",
       "      <th>3419</th>\n",
       "      <td>2018-03-20</td>\n",
       "      <td>0.886141</td>\n",
       "      <td>0.890581</td>\n",
       "      <td>0.878697</td>\n",
       "      <td>0.032527</td>\n",
       "      <td>0.919325</td>\n",
       "    </tr>\n",
       "    <tr>\n",
       "      <th>3420</th>\n",
       "      <td>2018-03-21</td>\n",
       "      <td>0.880971</td>\n",
       "      <td>0.893376</td>\n",
       "      <td>0.882963</td>\n",
       "      <td>0.023773</td>\n",
       "      <td>0.917742</td>\n",
       "    </tr>\n",
       "    <tr>\n",
       "      <th>3421</th>\n",
       "      <td>2018-03-22</td>\n",
       "      <td>0.869834</td>\n",
       "      <td>0.871391</td>\n",
       "      <td>0.849498</td>\n",
       "      <td>0.041159</td>\n",
       "      <td>0.881827</td>\n",
       "    </tr>\n",
       "  </tbody>\n",
       "</table>\n",
       "</div>"
      ],
      "text/plain": [
       "      timestamp      open      high       low    volume     close\n",
       "3409 2018-03-06  0.889422  0.890652  0.889457  0.013769  0.923809\n",
       "3410 2018-03-07  0.881193  0.900030  0.885368  0.018255  0.936241\n",
       "3411 2018-03-08  0.902812  0.913551  0.909677  0.017927  0.948848\n",
       "3412 2018-03-09  0.922586  0.939777  0.924900  0.024743  0.976508\n",
       "3413 2018-03-12  0.945243  0.955001  0.947089  0.025463  0.980983\n",
       "3414 2018-03-13  0.951255  0.954859  0.925150  0.025465  0.958106\n",
       "3415 2018-03-14  0.928173  0.938677  0.932080  0.024299  0.966001\n",
       "3416 2018-03-15  0.931516  0.941108  0.926121  0.019308  0.967514\n",
       "3417 2018-03-16  0.936642  0.936059  0.922290  0.031860  0.953279\n",
       "3418 2018-03-19  0.903308  0.902843  0.884487  0.036997  0.923079\n",
       "3419 2018-03-20  0.886141  0.890581  0.878697  0.032527  0.919325\n",
       "3420 2018-03-21  0.880971  0.893376  0.882963  0.023773  0.917742\n",
       "3421 2018-03-22  0.869834  0.871391  0.849498  0.041159  0.881827"
      ]
     },
     "execution_count": 5,
     "metadata": {},
     "output_type": "execute_result"
    }
   ],
   "source": [
    "g_stock.dtypes\n",
    "g_stock['timestamp'] = pd.to_datetime(g_stock.timestamp)\n",
    "g_stock = g_stock.sort_values('timestamp')\n",
    "g_stock.head(10)\n",
    "g_stock=g_stock.reset_index(drop=True)\n",
    "g_stock.tail(13)"
   ]
  },
  {
   "cell_type": "markdown",
   "metadata": {},
   "source": [
    "Batches of 10 days to 1 op"
   ]
  },
  {
   "cell_type": "code",
   "execution_count": 6,
   "metadata": {},
   "outputs": [],
   "source": [
    "w_len = 10\n",
    "ip = []\n",
    "op = []\n",
    "tar=5\n",
    "for i in range(len(g_stock)-w_len+1):\n",
    "    ip.append(g_stock.iloc[i:i+w_len, 1:5].as_matrix())\n",
    "    op.append(g_stock.loc[i+w_len-1,'close'])\n",
    "x = [[1,2,3],[4,5,60]]\n",
    "\n",
    "\n",
    "x = np.array(ip)\n",
    "y = np.array(op)\n",
    "\n",
    "\n",
    "    "
   ]
  },
  {
   "cell_type": "markdown",
   "metadata": {},
   "source": [
    "Train Test split"
   ]
  },
  {
   "cell_type": "code",
   "execution_count": 7,
   "metadata": {},
   "outputs": [
    {
     "data": {
      "text/plain": [
       "10"
      ]
     },
     "execution_count": 7,
     "metadata": {},
     "output_type": "execute_result"
    }
   ],
   "source": [
    "split = int(x.shape[0]*0.9)\n",
    "\n",
    "x_train = x[:split]\n",
    "x_test = x[split:]\n",
    "\n",
    "y_train = y[:split]\n",
    "y_test = y[split:]\n",
    "x_test.shape[1]\n"
   ]
  },
  {
   "cell_type": "markdown",
   "metadata": {},
   "source": [
    "reshaping into 3D tensors"
   ]
  },
  {
   "cell_type": "code",
   "execution_count": 8,
   "metadata": {},
   "outputs": [],
   "source": [
    "x_train = np.reshape(x_train, (x_train.shape[0], x_train.shape[1], 4))\n",
    "x_test = np.reshape(x_test, (x_test.shape[0], x_test.shape[1], 4)) "
   ]
  },
  {
   "cell_type": "markdown",
   "metadata": {},
   "source": [
    "Designing and building model"
   ]
  },
  {
   "cell_type": "code",
   "execution_count": 10,
   "metadata": {},
   "outputs": [],
   "source": [
    "import keras\n",
    "from keras.models import Sequential\n",
    "from keras.layers.core import Dense, Dropout, Activation\n",
    "from keras.layers.recurrent import LSTM\n",
    "from keras.models import load_model"
   ]
  },
  {
   "cell_type": "markdown",
   "metadata": {},
   "source": [
    "Designing Tensorflow net"
   ]
  },
  {
   "cell_type": "code",
   "execution_count": 11,
   "metadata": {},
   "outputs": [],
   "source": [
    "model = Sequential()\n",
    "\n",
    "model.add(LSTM(256, input_shape=(10,4), return_sequences=True))\n",
    "model.add(Dropout(0.3))\n",
    "\n",
    "model.add(LSTM(256, input_shape=(10,4), return_sequences=False))\n",
    "model.add(Dropout(0.3))\n",
    "\n",
    "model.add(Dense(32,kernel_initializer=\"uniform\",activation='relu'))        \n",
    "model.add(Dense(1,kernel_initializer=\"uniform\",activation='linear'))\n",
    "\n",
    "model.compile(loss = 'mse', optimizer='adam', metrics=['accuracy'])"
   ]
  },
  {
   "cell_type": "code",
   "execution_count": 12,
   "metadata": {},
   "outputs": [
    {
     "name": "stdout",
     "output_type": "stream",
     "text": [
      "Train on 2763 samples, validate on 308 samples\n",
      "Epoch 1/20\n",
      "2763/2763 [==============================] - 6s 2ms/step - loss: 0.0536 - acc: 3.6193e-04 - val_loss: 0.1703 - val_acc: 0.0000e+00\n",
      "Epoch 2/20\n",
      "2763/2763 [==============================] - 4s 2ms/step - loss: 0.0151 - acc: 3.6193e-04 - val_loss: 0.1404 - val_acc: 0.0000e+00\n",
      "Epoch 3/20\n",
      "2763/2763 [==============================] - 4s 1ms/step - loss: 0.0129 - acc: 3.6193e-04 - val_loss: 0.1306 - val_acc: 0.0000e+00\n",
      "Epoch 4/20\n",
      "2763/2763 [==============================] - 4s 2ms/step - loss: 0.0090 - acc: 3.6193e-04 - val_loss: 0.0695 - val_acc: 0.0000e+00\n",
      "Epoch 5/20\n",
      "2763/2763 [==============================] - 5s 2ms/step - loss: 0.0078 - acc: 3.6193e-04 - val_loss: 0.1234 - val_acc: 0.0000e+00\n",
      "Epoch 6/20\n",
      "2763/2763 [==============================] - 5s 2ms/step - loss: 0.0075 - acc: 3.6193e-04 - val_loss: 0.0724 - val_acc: 0.0000e+00\n",
      "Epoch 7/20\n",
      "2763/2763 [==============================] - 4s 2ms/step - loss: 0.0067 - acc: 3.6193e-04 - val_loss: 0.0902 - val_acc: 0.0000e+00\n",
      "Epoch 8/20\n",
      "2763/2763 [==============================] - 4s 2ms/step - loss: 0.0064 - acc: 3.6193e-04 - val_loss: 0.0707 - val_acc: 0.0000e+00\n",
      "Epoch 9/20\n",
      "2763/2763 [==============================] - 4s 2ms/step - loss: 0.0061 - acc: 3.6193e-04 - val_loss: 0.0787 - val_acc: 0.0000e+00\n",
      "Epoch 10/20\n",
      "2763/2763 [==============================] - 4s 2ms/step - loss: 0.0061 - acc: 3.6193e-04 - val_loss: 0.0677 - val_acc: 0.0000e+00\n",
      "Epoch 11/20\n",
      "2763/2763 [==============================] - 5s 2ms/step - loss: 0.0059 - acc: 3.6193e-04 - val_loss: 0.0750 - val_acc: 0.0000e+00\n",
      "Epoch 12/20\n",
      "2763/2763 [==============================] - 4s 1ms/step - loss: 0.0059 - acc: 3.6193e-04 - val_loss: 0.0689 - val_acc: 0.0000e+00\n",
      "Epoch 13/20\n",
      "2763/2763 [==============================] - 4s 1ms/step - loss: 0.0057 - acc: 3.6193e-04 - val_loss: 0.0736 - val_acc: 0.0000e+00\n",
      "Epoch 14/20\n",
      "2763/2763 [==============================] - 5s 2ms/step - loss: 0.0057 - acc: 3.6193e-04 - val_loss: 0.0702 - val_acc: 0.0000e+00\n",
      "Epoch 15/20\n",
      "2763/2763 [==============================] - 4s 1ms/step - loss: 0.0057 - acc: 3.6193e-04 - val_loss: 0.0793 - val_acc: 0.0000e+00\n",
      "Epoch 16/20\n",
      "2763/2763 [==============================] - 4s 1ms/step - loss: 0.0057 - acc: 3.6193e-04 - val_loss: 0.0628 - val_acc: 0.0000e+00\n",
      "Epoch 17/20\n",
      "2763/2763 [==============================] - 4s 1ms/step - loss: 0.0057 - acc: 3.6193e-04 - val_loss: 0.0668 - val_acc: 0.0000e+00\n",
      "Epoch 18/20\n",
      "2763/2763 [==============================] - 4s 1ms/step - loss: 0.0055 - acc: 3.6193e-04 - val_loss: 0.0664 - val_acc: 0.0000e+00\n",
      "Epoch 19/20\n",
      "2763/2763 [==============================] - 4s 1ms/step - loss: 0.0054 - acc: 3.6193e-04 - val_loss: 0.0615 - val_acc: 0.0000e+00\n",
      "Epoch 20/20\n",
      "2763/2763 [==============================] - 4s 1ms/step - loss: 0.0052 - acc: 3.6193e-04 - val_loss: 0.0694 - val_acc: 0.0000e+00\n"
     ]
    },
    {
     "data": {
      "text/plain": [
       "<keras.callbacks.History at 0x7fca7cf48860>"
      ]
     },
     "execution_count": 12,
     "metadata": {},
     "output_type": "execute_result"
    }
   ],
   "source": [
    "model.fit(x_train,y_train,batch_size=512,epochs=20,validation_split=0.1,verbose=1)"
   ]
  },
  {
   "cell_type": "markdown",
   "metadata": {},
   "source": [
    "predict for test data"
   ]
  },
  {
   "cell_type": "code",
   "execution_count": 53,
   "metadata": {},
   "outputs": [
    {
     "data": {
      "text/plain": [
       "array([0.36262307], dtype=float32)"
      ]
     },
     "execution_count": 53,
     "metadata": {},
     "output_type": "execute_result"
    }
   ],
   "source": [
    "p = model.predict(x_test)\n",
    "p[0]"
   ]
  },
  {
   "cell_type": "markdown",
   "metadata": {},
   "source": [
    "denormalizing"
   ]
  },
  {
   "cell_type": "code",
   "execution_count": 42,
   "metadata": {},
   "outputs": [
    {
     "data": {
      "text/plain": [
       "array([0.36262307], dtype=float32)"
      ]
     },
     "execution_count": 42,
     "metadata": {},
     "output_type": "execute_result"
    }
   ],
   "source": [
    "ab = ab.reshape(-1,1)\n",
    "\n",
    "a = min_max_scaler.fit_transform(ab)\n",
    "new_p = min_max_scaler.inverse_transform(p)\n",
    "new_y = min_max_scaler.inverse_transform(y_test)\n",
    "\n",
    "p[0]\n",
    "\n"
   ]
  },
  {
   "cell_type": "code",
   "execution_count": 54,
   "metadata": {},
   "outputs": [
    {
     "data": {
      "text/plain": [
       "array([462.60736], dtype=float32)"
      ]
     },
     "execution_count": 54,
     "metadata": {},
     "output_type": "execute_result"
    }
   ],
   "source": [
    "df = pd.read_csv(\"/home/mihir/internship/google_stock/GOOGL.csv\", index_col = 0)\n",
    "df.drop(['close','dividend_amount','split_coefficient'],1,inplace=True)\n",
    "\n",
    "df['close'] = df.adjusted_close\n",
    "\n",
    "# Bug fixed at here, please update the denormalize function to this one\n",
    "def denormalize(df, normalized_value): \n",
    "    df = df['close'].values.reshape(-1,1)\n",
    "    normalized_value = normalized_value.reshape(-1,1)\n",
    "    \n",
    "    #return df.shape, p.shape\n",
    "    min_max_scaler = preprocessing.MinMaxScaler()\n",
    "    a = min_max_scaler.fit_transform(df)\n",
    "    new = min_max_scaler.inverse_transform(normalized_value)\n",
    "    return new\n",
    "\n",
    "new_p = denormalize(df, p)\n",
    "new_y = denormalize(df, y_test)\n",
    "\n",
    "new_p[0]"
   ]
  },
  {
   "cell_type": "code",
   "execution_count": null,
   "metadata": {},
   "outputs": [],
   "source": [
    "plotting"
   ]
  },
  {
   "cell_type": "code",
   "execution_count": 55,
   "metadata": {},
   "outputs": [
    {
     "data": {
      "image/png": "[encoded data removed]",
      "text/plain": [
       "<matplotlib.figure.Figure at 0x7fca71f69c18>"
      ]
     },
     "metadata": {},
     "output_type": "display_data"
    }
   ],
   "source": [
    "import matplotlib.pyplot as plt2\n",
    "\n",
    "plt2.plot(new_p,color='red', label='Prediction')\n",
    "plt2.plot(new_y,color='blue', label='Actual')\n",
    "plt2.legend(loc='best')\n",
    "plt2.show()"
   ]
  },
  {
   "cell_type": "code",
   "execution_count": 20,
   "metadata": {},
   "outputs": [
    {
     "name": "stdout",
     "output_type": "stream",
     "text": [
      "[0.6398666]\n"
     ]
    }
   ],
   "source": [
    "print(p[230])"
   ]
  }
 ],
 "metadata": {
  "kernelspec": {
   "display_name": "Python 3",
   "language": "python",
   "name": "python3"
  },
  "language_info": {
   "codemirror_mode": {
    "name": "ipython",
    "version": 3
   },
   "file_extension": ".py",
   "mimetype": "text/x-python",
   "name": "python",
   "nbconvert_exporter": "python",
   "pygments_lexer": "ipython3",
   "version": "3.5.2"
  }
 },
 "nbformat": 4,
 "nbformat_minor": 2
}
