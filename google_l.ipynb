{
 "cells": [
  {
   "cell_type": "code",
   "execution_count": 1,
   "metadata": {},
   "outputs": [],
   "source": [
    "import pandas as pd\n",
    "import numpy as np\n",
    "from sklearn import preprocessing\n",
    "from sklearn.utils import shuffle\n",
    "from matplotlib import pyplot as plt"
   ]
  },
  {
   "cell_type": "code",
   "execution_count": 2,
   "metadata": {},
   "outputs": [
    {
     "data": {
      "text/html": [
       "<div>\n",
       "<style scoped>\n",
       "    .dataframe tbody tr th:only-of-type {\n",
       "        vertical-align: middle;\n",
       "    }\n",
       "\n",
       "    .dataframe tbody tr th {\n",
       "        vertical-align: top;\n",
       "    }\n",
       "\n",
       "    .dataframe thead th {\n",
       "        text-align: right;\n",
       "    }\n",
       "</style>\n",
       "<table border=\"1\" class=\"dataframe\">\n",
       "  <thead>\n",
       "    <tr style=\"text-align: right;\">\n",
       "      <th></th>\n",
       "      <th>open</th>\n",
       "      <th>high</th>\n",
       "      <th>low</th>\n",
       "      <th>volume</th>\n",
       "      <th>close</th>\n",
       "    </tr>\n",
       "  </thead>\n",
       "  <tbody>\n",
       "    <tr>\n",
       "      <th>count</th>\n",
       "      <td>3422.000000</td>\n",
       "      <td>3422.000000</td>\n",
       "      <td>3422.000000</td>\n",
       "      <td>3.422000e+03</td>\n",
       "      <td>3422.000000</td>\n",
       "    </tr>\n",
       "    <tr>\n",
       "      <th>mean</th>\n",
       "      <td>596.329742</td>\n",
       "      <td>601.775460</td>\n",
       "      <td>590.336500</td>\n",
       "      <td>7.819917e+06</td>\n",
       "      <td>408.703939</td>\n",
       "    </tr>\n",
       "    <tr>\n",
       "      <th>std</th>\n",
       "      <td>226.779285</td>\n",
       "      <td>227.575792</td>\n",
       "      <td>225.703801</td>\n",
       "      <td>8.250848e+06</td>\n",
       "      <td>257.431789</td>\n",
       "    </tr>\n",
       "    <tr>\n",
       "      <th>min</th>\n",
       "      <td>99.090000</td>\n",
       "      <td>101.740000</td>\n",
       "      <td>95.960000</td>\n",
       "      <td>3.845900e+04</td>\n",
       "      <td>50.159800</td>\n",
       "    </tr>\n",
       "    <tr>\n",
       "      <th>25%</th>\n",
       "      <td>461.072500</td>\n",
       "      <td>465.297500</td>\n",
       "      <td>455.915000</td>\n",
       "      <td>2.428416e+06</td>\n",
       "      <td>231.221250</td>\n",
       "    </tr>\n",
       "    <tr>\n",
       "      <th>50%</th>\n",
       "      <td>565.005000</td>\n",
       "      <td>569.555000</td>\n",
       "      <td>559.780000</td>\n",
       "      <td>5.077000e+06</td>\n",
       "      <td>300.033700</td>\n",
       "    </tr>\n",
       "    <tr>\n",
       "      <th>75%</th>\n",
       "      <td>735.502500</td>\n",
       "      <td>739.972500</td>\n",
       "      <td>728.193125</td>\n",
       "      <td>1.021830e+07</td>\n",
       "      <td>561.084125</td>\n",
       "    </tr>\n",
       "    <tr>\n",
       "      <th>max</th>\n",
       "      <td>1226.800000</td>\n",
       "      <td>1228.880000</td>\n",
       "      <td>1218.600000</td>\n",
       "      <td>8.215110e+07</td>\n",
       "      <td>1187.560000</td>\n",
       "    </tr>\n",
       "  </tbody>\n",
       "</table>\n",
       "</div>"
      ],
      "text/plain": [
       "              open         high          low        volume        close\n",
       "count  3422.000000  3422.000000  3422.000000  3.422000e+03  3422.000000\n",
       "mean    596.329742   601.775460   590.336500  7.819917e+06   408.703939\n",
       "std     226.779285   227.575792   225.703801  8.250848e+06   257.431789\n",
       "min      99.090000   101.740000    95.960000  3.845900e+04    50.159800\n",
       "25%     461.072500   465.297500   455.915000  2.428416e+06   231.221250\n",
       "50%     565.005000   569.555000   559.780000  5.077000e+06   300.033700\n",
       "75%     735.502500   739.972500   728.193125  1.021830e+07   561.084125\n",
       "max    1226.800000  1228.880000  1218.600000  8.215110e+07  1187.560000"
      ]
     },
     "execution_count": 2,
     "metadata": {},
     "output_type": "execute_result"
    }
   ],
   "source": [
    "g_stock1 = pd.read_csv(\"/home/mihir/internship/google_stock/GOOGL.csv\")\n",
    "\n",
    "g_stock1.drop(['close','dividend_amount','split_coefficient'],1,inplace=True)\n",
    "\n",
    "g_stock1['close'] = g_stock1.adjusted_close\n",
    "g_stock1.drop(['adjusted_close'],1,inplace=True)\n",
    "\n",
    "g_stock1.describe()\n",
    "\n",
    "\n"
   ]
  },
  {
   "cell_type": "code",
   "execution_count": 3,
   "metadata": {},
   "outputs": [
    {
     "data": {
      "text/plain": [
       "pandas.core.series.Series"
      ]
     },
     "execution_count": 3,
     "metadata": {},
     "output_type": "execute_result"
    }
   ],
   "source": [
    "type(g_stock1['open'])"
   ]
  },
  {
   "cell_type": "code",
   "execution_count": 4,
   "metadata": {},
   "outputs": [],
   "source": [
    "def normalize(z,op):\n",
    "    n_z = []\n",
    "    mean=0\n",
    "    std=0\n",
    "    mean = z.mean()\n",
    "    std = z.std()\n",
    "    for i in z:\n",
    "        i =(i-mean)/std\n",
    "        n_z.append(i)\n",
    "    if op:\n",
    "        return pd.Series(n_z),mean,std\n",
    "    return pd.Series(n_z),0,0"
   ]
  },
  {
   "cell_type": "code",
   "execution_count": 5,
   "metadata": {},
   "outputs": [],
   "source": [
    "def df_normalize(df):\n",
    "    \n",
    "    df1 = pd.DataFrame()\n",
    "    for column in df:\n",
    "        type(column)\n",
    "        if(column == 'timestamp'):\n",
    "            df1[column] = df[column]\n",
    "        elif(column == 'close'): \n",
    "            df1[column],op_mean,op_std = normalize(df[column],1)\n",
    "        else:\n",
    "             df1[column],op_mean,op_std = normalize(df[column],0)\n",
    "    return df1,op_mean,op_std"
   ]
  },
  {
   "cell_type": "code",
   "execution_count": 6,
   "metadata": {},
   "outputs": [
    {
     "data": {
      "text/html": [
       "<div>\n",
       "<style scoped>\n",
       "    .dataframe tbody tr th:only-of-type {\n",
       "        vertical-align: middle;\n",
       "    }\n",
       "\n",
       "    .dataframe tbody tr th {\n",
       "        vertical-align: top;\n",
       "    }\n",
       "\n",
       "    .dataframe thead th {\n",
       "        text-align: right;\n",
       "    }\n",
       "</style>\n",
       "<table border=\"1\" class=\"dataframe\">\n",
       "  <thead>\n",
       "    <tr style=\"text-align: right;\">\n",
       "      <th></th>\n",
       "      <th>timestamp</th>\n",
       "      <th>open</th>\n",
       "      <th>high</th>\n",
       "      <th>low</th>\n",
       "      <th>volume</th>\n",
       "      <th>close</th>\n",
       "    </tr>\n",
       "  </thead>\n",
       "  <tbody>\n",
       "    <tr>\n",
       "      <th>0</th>\n",
       "      <td>2018-03-22</td>\n",
       "      <td>2.132824</td>\n",
       "      <td>2.118611</td>\n",
       "      <td>2.034983</td>\n",
       "      <td>-0.533492</td>\n",
       "      <td>2.503366</td>\n",
       "    </tr>\n",
       "    <tr>\n",
       "      <th>1</th>\n",
       "      <td>2018-03-21</td>\n",
       "      <td>2.188208</td>\n",
       "      <td>2.227498</td>\n",
       "      <td>2.201441</td>\n",
       "      <td>-0.706522</td>\n",
       "      <td>2.662049</td>\n",
       "    </tr>\n",
       "    <tr>\n",
       "      <th>2</th>\n",
       "      <td>2018-03-20</td>\n",
       "      <td>2.213916</td>\n",
       "      <td>2.213656</td>\n",
       "      <td>2.180218</td>\n",
       "      <td>-0.619404</td>\n",
       "      <td>2.669041</td>\n",
       "    </tr>\n",
       "    <tr>\n",
       "      <th>3</th>\n",
       "      <td>2018-03-19</td>\n",
       "      <td>2.299285</td>\n",
       "      <td>2.274383</td>\n",
       "      <td>2.209017</td>\n",
       "      <td>-0.574919</td>\n",
       "      <td>2.685628</td>\n",
       "    </tr>\n",
       "    <tr>\n",
       "      <th>4</th>\n",
       "      <td>2018-03-16</td>\n",
       "      <td>2.465041</td>\n",
       "      <td>2.438900</td>\n",
       "      <td>2.397051</td>\n",
       "      <td>-0.626034</td>\n",
       "      <td>2.819062</td>\n",
       "    </tr>\n",
       "  </tbody>\n",
       "</table>\n",
       "</div>"
      ],
      "text/plain": [
       "    timestamp      open      high       low    volume     close\n",
       "0  2018-03-22  2.132824  2.118611  2.034983 -0.533492  2.503366\n",
       "1  2018-03-21  2.188208  2.227498  2.201441 -0.706522  2.662049\n",
       "2  2018-03-20  2.213916  2.213656  2.180218 -0.619404  2.669041\n",
       "3  2018-03-19  2.299285  2.274383  2.209017 -0.574919  2.685628\n",
       "4  2018-03-16  2.465041  2.438900  2.397051 -0.626034  2.819062"
      ]
     },
     "execution_count": 6,
     "metadata": {},
     "output_type": "execute_result"
    }
   ],
   "source": [
    "df_normalized,op_mean,op_std = df_normalize(g_stock1)\n",
    "df_normalized.head()\n"
   ]
  },
  {
   "cell_type": "code",
   "execution_count": 7,
   "metadata": {},
   "outputs": [
    {
     "data": {
      "text/plain": [
       "408.7039388077148"
      ]
     },
     "execution_count": 7,
     "metadata": {},
     "output_type": "execute_result"
    }
   ],
   "source": [
    "op_mean"
   ]
  },
  {
   "cell_type": "code",
   "execution_count": 8,
   "metadata": {},
   "outputs": [
    {
     "data": {
      "text/plain": [
       "\"\\ngn_stock1 = g_stock1\\ngn_stock1['open'] = normalize(g_stock1.open,0)\\ngn_stock1['high'] = normalize(g_stock1.high,0)\\ngn_stock1['low'] = normalize(g_stock1.low,0)\\ngn_stock1['volume'] = normalize(g_stock1.volume,0)\\ngn_stock1['close'],op_mean,op_std = normalize(g_stock1.close,1)\\n\\ngn_stock1.head()\\n\\ntype(g_stock1['open'])\""
      ]
     },
     "execution_count": 8,
     "metadata": {},
     "output_type": "execute_result"
    }
   ],
   "source": [
    "     \n",
    "'''\n",
    "gn_stock1 = g_stock1\n",
    "gn_stock1['open'] = normalize(g_stock1.open,0)\n",
    "gn_stock1['high'] = normalize(g_stock1.high,0)\n",
    "gn_stock1['low'] = normalize(g_stock1.low,0)\n",
    "gn_stock1['volume'] = normalize(g_stock1.volume,0)\n",
    "gn_stock1['close'],op_mean,op_std = normalize(g_stock1.close,1)\n",
    "\n",
    "gn_stock1.head()\n",
    "\n",
    "type(g_stock1['open'])'''"
   ]
  },
  {
   "cell_type": "code",
   "execution_count": 9,
   "metadata": {},
   "outputs": [],
   "source": [
    "#op_mean"
   ]
  },
  {
   "cell_type": "code",
   "execution_count": 10,
   "metadata": {},
   "outputs": [],
   "source": [
    "def reindex(df):\n",
    "    df['timestamp'] = pd.to_datetime(df.timestamp)\n",
    "    df = df.sort_values('timestamp')\n",
    "    df= df.reset_index(drop=True)\n",
    "    return df"
   ]
  },
  {
   "cell_type": "code",
   "execution_count": 11,
   "metadata": {},
   "outputs": [
    {
     "data": {
      "text/html": [
       "<div>\n",
       "<style scoped>\n",
       "    .dataframe tbody tr th:only-of-type {\n",
       "        vertical-align: middle;\n",
       "    }\n",
       "\n",
       "    .dataframe tbody tr th {\n",
       "        vertical-align: top;\n",
       "    }\n",
       "\n",
       "    .dataframe thead th {\n",
       "        text-align: right;\n",
       "    }\n",
       "</style>\n",
       "<table border=\"1\" class=\"dataframe\">\n",
       "  <thead>\n",
       "    <tr style=\"text-align: right;\">\n",
       "      <th></th>\n",
       "      <th>timestamp</th>\n",
       "      <th>open</th>\n",
       "      <th>high</th>\n",
       "      <th>low</th>\n",
       "      <th>volume</th>\n",
       "      <th>close</th>\n",
       "    </tr>\n",
       "  </thead>\n",
       "  <tbody>\n",
       "    <tr>\n",
       "      <th>0</th>\n",
       "      <td>2004-08-19</td>\n",
       "      <td>-2.188559</td>\n",
       "      <td>-2.187032</td>\n",
       "      <td>-2.190377</td>\n",
       "      <td>4.464885</td>\n",
       "      <td>-1.392140</td>\n",
       "    </tr>\n",
       "    <tr>\n",
       "      <th>1</th>\n",
       "      <td>2004-08-20</td>\n",
       "      <td>-2.184149</td>\n",
       "      <td>-2.164973</td>\n",
       "      <td>-2.170263</td>\n",
       "      <td>1.819738</td>\n",
       "      <td>-1.376602</td>\n",
       "    </tr>\n",
       "    <tr>\n",
       "      <th>2</th>\n",
       "      <td>2004-08-23</td>\n",
       "      <td>-2.141156</td>\n",
       "      <td>-2.145639</td>\n",
       "      <td>-2.132381</td>\n",
       "      <td>1.264862</td>\n",
       "      <td>-1.374479</td>\n",
       "    </tr>\n",
       "    <tr>\n",
       "      <th>3</th>\n",
       "      <td>2004-08-24</td>\n",
       "      <td>-2.139039</td>\n",
       "      <td>-2.153900</td>\n",
       "      <td>-2.156661</td>\n",
       "      <td>0.900196</td>\n",
       "      <td>-1.383304</td>\n",
       "    </tr>\n",
       "    <tr>\n",
       "      <th>4</th>\n",
       "      <td>2004-08-25</td>\n",
       "      <td>-2.167613</td>\n",
       "      <td>-2.169719</td>\n",
       "      <td>-2.155287</td>\n",
       "      <td>0.165884</td>\n",
       "      <td>-1.381103</td>\n",
       "    </tr>\n",
       "  </tbody>\n",
       "</table>\n",
       "</div>"
      ],
      "text/plain": [
       "   timestamp      open      high       low    volume     close\n",
       "0 2004-08-19 -2.188559 -2.187032 -2.190377  4.464885 -1.392140\n",
       "1 2004-08-20 -2.184149 -2.164973 -2.170263  1.819738 -1.376602\n",
       "2 2004-08-23 -2.141156 -2.145639 -2.132381  1.264862 -1.374479\n",
       "3 2004-08-24 -2.139039 -2.153900 -2.156661  0.900196 -1.383304\n",
       "4 2004-08-25 -2.167613 -2.169719 -2.155287  0.165884 -1.381103"
      ]
     },
     "execution_count": 11,
     "metadata": {},
     "output_type": "execute_result"
    }
   ],
   "source": [
    "df_reindexed = reindex(df_normalized)\n",
    "df_reindexed.head()"
   ]
  },
  {
   "cell_type": "code",
   "execution_count": 12,
   "metadata": {},
   "outputs": [],
   "source": [
    "def input_output(df,window):\n",
    "    \n",
    "    \n",
    "    ip = []\n",
    "    op = []\n",
    "    for i in range(len(df)-window+1):\n",
    "        ip.append(df.iloc[i:i+window, 1:5].as_matrix())\n",
    "        op.append(df.loc[i+window-1,'close'])\n",
    "    X= np.array(ip)\n",
    "    Y = np.array(op)\n",
    "    \n",
    "    x,y = shuffle(X,Y, random_state = 1)\n",
    "        \n",
    "    return x,y,X,Y"
   ]
  },
  {
   "cell_type": "code",
   "execution_count": 13,
   "metadata": {},
   "outputs": [],
   "source": [
    "x,y,X,Y= input_output(df_reindexed,window=25)"
   ]
  },
  {
   "cell_type": "code",
   "execution_count": 14,
   "metadata": {},
   "outputs": [],
   "source": [
    "def train_test_split(x,y,ratio):\n",
    "    split = int(x.shape[0]*ratio)\n",
    "    \n",
    "   \n",
    "   \n",
    "\n",
    "    x_train = x[:split]\n",
    "    x_test = x[split:]\n",
    "\n",
    "    y_train = y[:split]\n",
    "    y_test = y[split:]\n",
    "    \n",
    "    return x_train,y_train,x_test,y_test   "
   ]
  },
  {
   "cell_type": "code",
   "execution_count": 15,
   "metadata": {},
   "outputs": [],
   "source": [
    "x_train,y_train,x_test,y_test = train_test_split(x,y,ratio=0.9)"
   ]
  },
  {
   "cell_type": "code",
   "execution_count": 16,
   "metadata": {},
   "outputs": [],
   "source": [
    "def tensor_reshape(x,feature_no):\n",
    "    x = np.reshape(x, (x.shape[0], x.shape[1], feature_no))\n",
    "   \n",
    "    return x"
   ]
  },
  {
   "cell_type": "code",
   "execution_count": 17,
   "metadata": {},
   "outputs": [],
   "source": [
    "x_train_tensor = tensor_reshape(x_train, x_train[0].shape[1])\n",
    "x_test_tensor = tensor_reshape(x_test, x_train[0].shape[1])\n",
    "\n",
    "\n"
   ]
  },
  {
   "cell_type": "code",
   "execution_count": 18,
   "metadata": {},
   "outputs": [
    {
     "name": "stderr",
     "output_type": "stream",
     "text": [
      "Using TensorFlow backend.\n"
     ]
    }
   ],
   "source": [
    "import keras\n",
    "from keras.models import Sequential\n",
    "from keras.layers.core import Dense, Dropout, Activation\n",
    "from keras.layers.recurrent import LSTM\n",
    "from keras.layers.recurrent import SimpleRNN\n",
    "\n",
    "from keras.models import load_model"
   ]
  },
  {
   "cell_type": "code",
   "execution_count": 19,
   "metadata": {},
   "outputs": [
    {
     "data": {
      "text/plain": [
       "'\\nmodel.add(LSTM(256, input_shape=(25,4), return_sequences=True))\\nmodel.add(Dropout (0.3))\\n        \\nmodel.add(LSTM(256, input_shape=(25,4), return_sequences=False))\\nmodel.add(Dropout(0.3))\\n        \\nmodel.add(Dense(32,kernel_initializer=\"uniform\",activation=\\'relu\\'))        \\nmodel.add(Dense(1,kernel_initializer=\"uniform\",activation=\\'linear\\'))\\n\\n\\n\\nmodel.add(Dense(1,kernel_initializer=\"uniform\",activation=\\'linear\\'))\\n\\nmodel.compile(loss = \\'mse\\', optimizer=\\'adam\\', metrics=[\\'accuracy\\'])'"
      ]
     },
     "execution_count": 19,
     "metadata": {},
     "output_type": "execute_result"
    }
   ],
   "source": [
    "model = Sequential()\n",
    "\n",
    "\n",
    "model = Sequential()\n",
    "\n",
    "\n",
    "model.add(SimpleRNN(256, return_sequences= True, activation='relu', input_shape=(25,4)))\n",
    "model.add(Dropout(0.2))\n",
    "\n",
    "model.add(SimpleRNN(256, return_sequences= False, activation='relu', input_shape=(25,4)))\n",
    "model.add(Dropout(0.2))\n",
    "\n",
    "model.add(Dense(64,kernel_initializer='uniform', activation= 'relu'))\n",
    "\n",
    "model.add(Dense(1,kernel_initializer=\"uniform\",activation='linear'))\n",
    "\n",
    "model.compile(loss = 'mse', optimizer='adam', metrics=['accuracy'])\n",
    "'''\n",
    "model.add(LSTM(256, input_shape=(25,4), return_sequences=True))\n",
    "model.add(Dropout (0.3))\n",
    "        \n",
    "model.add(LSTM(256, input_shape=(25,4), return_sequences=False))\n",
    "model.add(Dropout(0.3))\n",
    "        \n",
    "model.add(Dense(32,kernel_initializer=\"uniform\",activation='relu'))        \n",
    "model.add(Dense(1,kernel_initializer=\"uniform\",activation='linear'))\n",
    "\n",
    "\n",
    "\n",
    "model.add(Dense(1,kernel_initializer=\"uniform\",activation='linear'))\n",
    "\n",
    "model.compile(loss = 'mse', optimizer='adam', metrics=['accuracy'])'''"
   ]
  },
  {
   "cell_type": "code",
   "execution_count": 20,
   "metadata": {},
   "outputs": [
    {
     "name": "stdout",
     "output_type": "stream",
     "text": [
      "Train on 2752 samples, validate on 306 samples\n",
      "Epoch 1/10\n",
      "2752/2752 [==============================] - 5s 2ms/step - loss: 0.6129 - acc: 0.0000e+00 - val_loss: 0.3094 - val_acc: 0.0000e+00\n",
      "Epoch 2/10\n",
      "2752/2752 [==============================] - 4s 1ms/step - loss: 0.2759 - acc: 0.0000e+00 - val_loss: 0.2039 - val_acc: 0.0000e+00\n",
      "Epoch 3/10\n",
      "2752/2752 [==============================] - 4s 1ms/step - loss: 0.1609 - acc: 0.0000e+00 - val_loss: 0.1570 - val_acc: 0.0000e+00\n",
      "Epoch 4/10\n",
      "2752/2752 [==============================] - 4s 1ms/step - loss: 0.0889 - acc: 0.0000e+00 - val_loss: 0.0871 - val_acc: 0.0000e+00\n",
      "Epoch 5/10\n",
      "2752/2752 [==============================] - 4s 1ms/step - loss: 0.0779 - acc: 0.0000e+00 - val_loss: 0.0338 - val_acc: 0.0000e+00\n",
      "Epoch 6/10\n",
      "2752/2752 [==============================] - 4s 1ms/step - loss: 0.0723 - acc: 0.0000e+00 - val_loss: 0.0568 - val_acc: 0.0000e+00\n",
      "Epoch 7/10\n",
      "2752/2752 [==============================] - 4s 1ms/step - loss: 0.0716 - acc: 0.0000e+00 - val_loss: 0.0717 - val_acc: 0.0000e+00\n",
      "Epoch 8/10\n",
      "2752/2752 [==============================] - 4s 1ms/step - loss: 0.0541 - acc: 0.0000e+00 - val_loss: 0.0267 - val_acc: 0.0000e+00\n",
      "Epoch 9/10\n",
      "2752/2752 [==============================] - 4s 1ms/step - loss: 0.0451 - acc: 0.0000e+00 - val_loss: 0.0224 - val_acc: 0.0000e+00\n",
      "Epoch 10/10\n",
      "2752/2752 [==============================] - 4s 1ms/step - loss: 0.0498 - acc: 0.0000e+00 - val_loss: 0.0173 - val_acc: 0.0000e+00\n"
     ]
    }
   ],
   "source": [
    "history= model.fit(x_train_tensor,y_train,batch_size=100,epochs=10,validation_split=0.1,verbose=1)"
   ]
  },
  {
   "cell_type": "code",
   "execution_count": 21,
   "metadata": {},
   "outputs": [],
   "source": [
    "def train_val_loss_plot(history):\n",
    "    plt.clf()\n",
    "    history_dict = history.history\n",
    "    loss_values = history_dict['loss']\n",
    "    val_loss_values = history_dict['val_loss']\n",
    "    \n",
    "    epochs = range(1, len(loss_values)+1)\n",
    "    \n",
    "    plt.plot(epochs, loss_values, 'bo', label = 'Training loss')\n",
    "    plt.plot(epochs, val_loss_values, 'b', label = 'Validation loss')\n",
    "    plt.title('Training and Validation loss')\n",
    "    plt.xlabel('Epochs')\n",
    "    plt.ylabel('Loss')\n",
    "    plt.legend()\n",
    "    plt.show()"
   ]
  },
  {
   "cell_type": "code",
   "execution_count": 22,
   "metadata": {},
   "outputs": [
    {
     "data": {
      "image/png": "[encoded data removed]",
      "text/plain": [
       "<matplotlib.figure.Figure at 0x7f6831538978>"
      ]
     },
     "metadata": {},
     "output_type": "display_data"
    }
   ],
   "source": [
    "train_val_loss_plot(history)"
   ]
  },
  {
   "cell_type": "code",
   "execution_count": 23,
   "metadata": {},
   "outputs": [],
   "source": [
    "def train_val_acc_plot(history):\n",
    "    plt.clf()\n",
    "    history_dict = history.history\n",
    "    acc_values = history_dict['acc']\n",
    "    val_acc_values = history_dict['val_acc']\n",
    "    \n",
    "    epochs = range(1, len(acc_values)+1)\n",
    "    \n",
    "    plt.plot(epochs, acc_values, 'bo', label= 'Training acc' )\n",
    "    plt.plot(epochs, val_acc_values, 'b', label= 'Validation acc' )\n",
    "    plt.title('Training and Validation accuracy')\n",
    "    plt.xlabel('Epochs')\n",
    "    plt.ylabel('accuracy')\n",
    "    plt.legend()\n",
    "    plt.show()"
   ]
  },
  {
   "cell_type": "code",
   "execution_count": 24,
   "metadata": {},
   "outputs": [
    {
     "data": {
      "image/png": "[encoded data removed]",
      "text/plain": [
       "<matplotlib.figure.Figure at 0x7f6831538668>"
      ]
     },
     "metadata": {},
     "output_type": "display_data"
    }
   ],
   "source": [
    "train_val_acc_plot(history)"
   ]
  },
  {
   "cell_type": "code",
   "execution_count": 25,
   "metadata": {},
   "outputs": [],
   "source": [
    "predict =  model.predict(x_test_tensor)"
   ]
  },
  {
   "cell_type": "code",
   "execution_count": 26,
   "metadata": {},
   "outputs": [],
   "source": [
    "def denormalize(p):\n",
    "    da = []\n",
    "    for i in p:\n",
    "        i = (i*op_std)+op_mean\n",
    "        da.append(i)\n",
    "    return da"
   ]
  },
  {
   "cell_type": "code",
   "execution_count": 27,
   "metadata": {},
   "outputs": [],
   "source": [
    "predict = denormalize(predict)\n",
    "real = denormalize(y_test)"
   ]
  },
  {
   "cell_type": "code",
   "execution_count": 28,
   "metadata": {},
   "outputs": [
    {
     "data": {
      "text/plain": [
       "array([295.78665], dtype=float32)"
      ]
     },
     "execution_count": 28,
     "metadata": {},
     "output_type": "execute_result"
    }
   ],
   "source": [
    "predict[1]"
   ]
  },
  {
   "cell_type": "code",
   "execution_count": 29,
   "metadata": {},
   "outputs": [],
   "source": [
    "def plot(predict,real):\n",
    "    plt.plot(predict,color='red', label='Prediction')\n",
    "    plt.plot(real,color='blue', label='Actual')\n",
    "    plt.legend(loc='best')\n",
    "    plt.show()"
   ]
  },
  {
   "cell_type": "code",
   "execution_count": 30,
   "metadata": {},
   "outputs": [
    {
     "data": {
      "image/png": "[encoded data removed]",
      "text/plain": [
       "<matplotlib.figure.Figure at 0x7f6831444208>"
      ]
     },
     "metadata": {},
     "output_type": "display_data"
    }
   ],
   "source": [
    "plot(predict,real)"
   ]
  },
  {
   "cell_type": "code",
   "execution_count": 31,
   "metadata": {},
   "outputs": [
    {
     "data": {
      "image/png": "[encoded data removed]",
      "text/plain": [
       "<matplotlib.figure.Figure at 0x7f682e5d09e8>"
      ]
     },
     "metadata": {},
     "output_type": "display_data"
    },
    {
     "data": {
      "image/png": "[encoded data removed]",
      "text/plain": [
       "<matplotlib.figure.Figure at 0x7f682e595390>"
      ]
     },
     "metadata": {},
     "output_type": "display_data"
    }
   ],
   "source": [
    "# summarize history for accuracy\n",
    "plt.plot(history.history['acc'])\n",
    "plt.plot(history.history['val_acc'])\n",
    "plt.title('model accuracy')\n",
    "plt.ylabel('accuracy')\n",
    "plt.xlabel('epoch')\n",
    "plt.legend(['train', 'test'], loc='upper left')\n",
    "plt.show()\n",
    "# summarize history for loss\n",
    "plt.plot(history.history['loss'])\n",
    "plt.plot(history.history['val_loss'])\n",
    "plt.title('model loss')\n",
    "plt.ylabel('loss')\n",
    "plt.xlabel('epoch')\n",
    "plt.legend(['train', 'test'], loc='upper left')\n",
    "plt.show()"
   ]
  },
  {
   "cell_type": "code",
   "execution_count": 32,
   "metadata": {},
   "outputs": [],
   "source": [
    "X = tensor_reshape(X,X[0].shape[1])"
   ]
  },
  {
   "cell_type": "code",
   "execution_count": 33,
   "metadata": {},
   "outputs": [],
   "source": [
    "P = model.predict(X)"
   ]
  },
  {
   "cell_type": "code",
   "execution_count": 34,
   "metadata": {},
   "outputs": [],
   "source": [
    "P = denormalize(P)\n",
    "Y = denormalize(Y)"
   ]
  },
  {
   "cell_type": "code",
   "execution_count": 35,
   "metadata": {},
   "outputs": [
    {
     "data": {
      "image/png": "[encoded data removed]",
      "text/plain": [
       "<matplotlib.figure.Figure at 0x7f68314631d0>"
      ]
     },
     "metadata": {},
     "output_type": "display_data"
    }
   ],
   "source": [
    "plot(P,Y)"
   ]
  },
  {
   "cell_type": "code",
   "execution_count": null,
   "metadata": {},
   "outputs": [],
   "source": []
  }
 ],
 "metadata": {
  "kernelspec": {
   "display_name": "Python 3",
   "language": "python",
   "name": "python3"
  },
  "language_info": {
   "codemirror_mode": {
    "name": "ipython",
    "version": 3
   },
   "file_extension": ".py",
   "mimetype": "text/x-python",
   "name": "python",
   "nbconvert_exporter": "python",
   "pygments_lexer": "ipython3",
   "version": "3.5.2"
  }
 },
 "nbformat": 4,
 "nbformat_minor": 2
}
